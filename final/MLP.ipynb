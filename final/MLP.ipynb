{
 "cells": [
  {
   "cell_type": "code",
   "execution_count": 8,
   "metadata": {},
   "outputs": [],
   "source": [
    "import time\n",
    "import numpy as np\n",
    "import matplotlib.pyplot as plt\n",
    "from sklearn.model_selection import train_test_split\n",
    "from sklearn.linear_model import LinearRegression\n",
    "from sklearn.neural_network import MLPRegressor\n",
    "from sklearn.preprocessing import StandardScaler\n"
   ]
  },
  {
   "cell_type": "code",
   "execution_count": 2,
   "metadata": {},
   "outputs": [],
   "source": [
    "def WMAE(predict,Y,weight):\n",
    "    N = Y.shape[0]\n",
    "    diff = np.abs(predict-Y)\n",
    "    WMAE = np.sum(weight * diff) / N\n",
    "    return WMAE\n",
    "    \n",
    "def NAE(predict,Y):\n",
    "    N = Y.shape[0]\n",
    "    diff = np.abs(predict-Y)\n",
    "    diff = np.divide(diff,Y)\n",
    "    NAE = np.sum(diff) / N\n",
    "    return NAE\n",
    "\n",
    "def err(predict,Y):\n",
    "    N = Y.shape[0]\n",
    "    w = [300, 1, 200]\n",
    "    diff = np.abs(predict-Y)\n",
    "    \n",
    "    diff_WMAE = np.multiply(diff,w)\n",
    "    rate_err, mesh_err, alpha_err = np.sum(diff_WMAE[:,0]) / N, np.sum(diff_WMAE[:,1]) / N, np.sum(diff_WMAE[:,2]) / N\n",
    "    print('WMAE: alpha err = {0}, mesh_size err = {1}, penetration rate err = {2}'.format(alpha_err,mesh_err,rate_err))\n",
    "    WMAE = alpha_err + mesh_err + rate_err\n",
    "    print('WMAE = {0}'.format(WMAE))\n",
    "    \n",
    "    diff = np.divide(diff,Y)\n",
    "    rate_err, mesh_err, alpha_err = np.sum(diff[:,0]) / N, np.sum(diff[:,1]) / N, np.sum(diff[:,2]) / N\n",
    "    print('NAE: alpha err = {0}, mesh_size err = {1}, penetration rate err = {2}'.format(alpha_err,mesh_err,rate_err))\n",
    "    NAE = alpha_err + mesh_err + rate_err\n",
    "    print('NAE = {0}'.format(NAE))\n"
   ]
  },
  {
   "cell_type": "code",
   "execution_count": 33,
   "metadata": {},
   "outputs": [],
   "source": [
    "with np.load('X_train.npz') as data:\n",
    "    X_tr = data['arr_0']\n",
    "    \n",
    "with np.load('Y_train.npz') as data:\n",
    "    Y_tr = data['arr_0']\n",
    "\n",
    "with np.load('X_test.npz') as data:\n",
    "    X_te = data['arr_0']\n",
    "\n",
    "X_tr, X_val, Y_tr, Y_val = train_test_split(X_tr, Y_tr, test_size=0.2,random_state=11)\n",
    "\n",
    "\n",
    "# Standardize\n",
    "sc = StandardScaler().fit(X_tr)\n",
    "X_tr = sc.transform(X_tr)\n",
    "X_val = sc.transform(X_val)\n",
    "X_te = sc.transform(X_te)\n"
   ]
  },
  {
   "cell_type": "code",
   "execution_count": 4,
   "metadata": {},
   "outputs": [],
   "source": [
    "N_train = X_tr.shape[0]\n",
    "N_val = X_val.shape[0]\n",
    "N_test = X_te.shape[0]\n",
    "D = X_tr.shape[1]"
   ]
  },
  {
   "cell_type": "code",
   "execution_count": 104,
   "metadata": {},
   "outputs": [
    {
     "name": "stdout",
     "output_type": "stream",
     "text": [
      "57.39897974014383\n",
      "34.83628206536435\n",
      "1.7447335637657755\n"
     ]
    }
   ],
   "source": [
    "\n",
    "y0 = Y_tr[:,0]\n",
    "y1 = Y_tr[:,1]\n",
    "y2 = Y_tr[:,2]\n",
    "# ordinary least squares\n",
    "clf = LinearRegression()\n",
    "# first target\n",
    "clf.fit(X_tr, y0)\n",
    "rate_tr = clf.predict(X_tr)\n",
    "rate_val = clf.predict(X_val)\n",
    "# third target\n",
    "clf.fit(X_tr, y1)\n",
    "mesh_tr = clf.predict(X_tr)\n",
    "mesh_val = clf.predict(X_val)\n",
    "# third target\n",
    "clf.fit(X_tr, y2)\n",
    "alpha_tr = clf.predict(X_tr)\n",
    "alpha_val = clf.predict(X_val)\n",
    "\n",
    "print(WMAE(rate_val,Y_val[:,0],300))\n",
    "print(WMAE(mesh_val,Y_val[:,1],1))\n",
    "print(WMAE(alpha_val,Y_val[:,2],200))\n"
   ]
  },
  {
   "cell_type": "code",
   "execution_count": 96,
   "metadata": {},
   "outputs": [
    {
     "name": "stdout",
     "output_type": "stream",
     "text": [
      "iteration 0 is done.\n",
      "iteration 1 is done.\n",
      "iteration 2 is done.\n",
      "iteration 3 is done.\n",
      "iteration 4 is done.\n",
      "iteration 5 is done.\n",
      "iteration 6 is done.\n",
      "iteration 7 is done.\n",
      "iteration 8 is done.\n"
     ]
    }
   ],
   "source": [
    "# linear regression\n",
    "\n",
    "rate_loss, mesh_loss, alpha_loss = list(),list(),list()\n",
    "\n",
    "st = time.time()\n",
    "for i in range(9):\n",
    "    s = 100\n",
    "    k = 200 + i*100\n",
    "    X = X_tr[:,s:k]\n",
    "    \n",
    "    x_tr = X_tr[:,s:k]\n",
    "    x_val = X_val[:,s:k]\n",
    "\n",
    "    y0 = Y_tr[:,0]\n",
    "    y1 = Y_tr[:,1]\n",
    "    y2 = Y_tr[:,2]\n",
    "    # ordinary least squares\n",
    "    clf = LinearRegression()\n",
    "    # first target\n",
    "    clf.fit(X, y0)\n",
    "    rate_tr = clf.predict(x_tr)\n",
    "    rate_val = clf.predict(x_val)\n",
    "    # third target\n",
    "    clf.fit(X, y1)\n",
    "    mesh_tr = clf.predict(x_tr)\n",
    "    mesh_val = clf.predict(x_val)\n",
    "    # third target\n",
    "    clf.fit(X, y2)\n",
    "    alpha_tr = clf.predict(x_tr)\n",
    "    alpha_val = clf.predict(x_val)\n",
    "    print('iteration {0} is done.'.format(i))\n",
    "    rate_loss.append(WMAE(rate_val,Y_val[:,0],300))\n",
    "    mesh_loss.append(WMAE(mesh_val,Y_val[:,1],1))\n",
    "    alpha_loss.append(WMAE(alpha_val,Y_val[:,2],200))\n"
   ]
  },
  {
   "cell_type": "code",
   "execution_count": 97,
   "metadata": {},
   "outputs": [
    {
     "name": "stdout",
     "output_type": "stream",
     "text": [
      "0 1 0\n"
     ]
    },
    {
     "data": {
      "text/plain": [
       "<Figure size 432x288 with 0 Axes>"
      ]
     },
     "metadata": {},
     "output_type": "display_data"
    }
   ],
   "source": [
    "k = range(9)\n",
    "plt.plot(k,rate_loss,color='red',label='rate')\n",
    "plt.scatter(k,rate_loss,color='red', s=30)\n",
    "plt.plot(k,mesh_loss,color='blue',label='mesh size')\n",
    "plt.scatter(k,mesh_loss,color='blue', s=30)\n",
    "plt.plot(k,alpha_loss,color='black',label='alpha')\n",
    "plt.scatter(k,alpha_loss,color='black', s=30)\n",
    "plt.xlabel('MSD feature ( starting from feature 100 )')\n",
    "plt.ylabel('Error')\n",
    "\n",
    "a, b, c = np.argmin(rate_loss), np.argmin(mesh_loss), np.argmin(alpha_loss)\n",
    "print(a,b,c)\n",
    "plt.text(k[a],rate_loss[a]+1,'feature {0}-{1} : {2:.4f}'.format(100,200+a*100,rate_loss[a]),fontsize=8,color='red')\n",
    "plt.text(k[b],mesh_loss[b]+1,'feature {0}-{1} : {2:.4f}'.format(100,200+b*100,mesh_loss[b]),fontsize=8,color='blue')\n",
    "plt.text(k[c],alpha_loss[c]+1,'feature {0}-{1} : {2:.4f}'.format(100,200+c*100,alpha_loss[c]),fontsize=8,color='black')\n",
    "'''\n",
    "for i,j in enumerate(rate_loss):\n",
    "    plt.text(k[i]+0.01,j+100,'{0:.2f}'.format(j),fontsize=8,color='red')\n",
    "for i,j in enumerate(mesh_loss):\n",
    "    plt.text(k[i]-0.1,j-100,'{0:.3f}'.format(j),fontsize=8,color='blue')\n",
    "for i,j in enumerate(alpha_loss):\n",
    "    plt.text(k[i]-0.1,j+100,'{0:.3f}'.format(j),fontsize=8,color='black')\n",
    "'''\n",
    "plt.xticks(range(9),range(100,1000,100))\n",
    "plt.legend(loc='upper right')\n",
    "plt.savefig('loss.png', dpi=300)\n",
    "plt.clf()"
   ]
  },
  {
   "cell_type": "code",
   "execution_count": 31,
   "metadata": {
    "scrolled": true
   },
   "outputs": [
    {
     "name": "stdout",
     "output_type": "stream",
     "text": [
      "Training is complete. Total time: 1301.74s\n",
      "train WMAE = 58.22361677752707\n",
      "train NAE = 2.7372502885691423\n",
      "train WMAE = 58.42297013761044\n",
      "train NAE = 2.1177507249906844\n",
      "train WMAE = 36.54169863859226\n",
      "train NAE = 0.39097981329567755\n",
      "train WMAE = 36.88138398480758\n",
      "train NAE = 0.3920789915358639\n",
      "train WMAE = 2.2224555204023813\n",
      "train NAE = 0.01599681788742148\n",
      "train WMAE = 2.2237117628029455\n",
      "train NAE = 0.0159694880908934\n"
     ]
    }
   ],
   "source": [
    "# Uniform voting of linear regression with feature bagging\n",
    "rate_tr, rate_val, rate_te = np.zeros(N_train), np.zeros(N_val), np.zeros(N_test)\n",
    "mesh_tr, mesh_val, mesh_te = np.zeros(N_train), np.zeros(N_val), np.zeros(N_test)\n",
    "alpha_tr, alpha_val, alpha_te = np.zeros(N_train), np.zeros(N_val), np.zeros(N_test)\n",
    "\n",
    "n_iter = 300\n",
    "random_step = np.random.randint(low=1,high=10,size=n_iter)\n",
    "st = time.time()\n",
    "for i in range(n_iter):\n",
    "    random_id = np.random.choice(N_train, size=int( 0.6 * N_train),replace=False)\n",
    "    t1_selected_features = range(0,200,random_step[i])\n",
    "    t2_selected_features = range(0,300,random_step[i])\n",
    "    t3_selected_features = range(0,100,random_step[i])\n",
    "    X = X_tr[random_id,:]\n",
    "\n",
    "    y0 = Y_tr[random_id,0]\n",
    "    y1 = Y_tr[random_id,1]\n",
    "    y2 = Y_tr[random_id,2]\n",
    "    # ordinary least squares\n",
    "    clf = LinearRegression()\n",
    "    # first target\n",
    "    clf.fit(X[:,0:200], y0)\n",
    "    rate_tr += clf.predict(X_tr[:,0:200])\n",
    "    rate_val += clf.predict(X_val[:,0:200])\n",
    "    rate_te += clf.predict(X_te[:,0:200])\n",
    "    # third target\n",
    "    clf.fit(X[:,0:300], y1)\n",
    "    mesh_tr += clf.predict(X_tr[:,0:300])\n",
    "    mesh_val += clf.predict(X_val[:,0:300])\n",
    "    mesh_te += clf.predict(X_te[:,0:300])\n",
    "    # third target\n",
    "    clf.fit(X[:,0:100], y2)\n",
    "    alpha_tr += clf.predict(X_tr[:,0:100])\n",
    "    alpha_val += clf.predict(X_val[:,0:100])\n",
    "    alpha_te += clf.predict(X_te[:,0:100])\n",
    "    #print('iteration {0} is done.'.format(i))\n",
    "\n",
    "print('Training is complete. Total time: {:>5.2f}s'.format(time.time()-st))\n",
    "\n",
    "rate_tr = rate_tr / n_iter\n",
    "rate_val = rate_val / n_iter\n",
    "rate_te = rate_te / n_iter\n",
    "print('train WMAE = {}'.format(WMAE(rate_tr,Y_tr[:,0],300)))\n",
    "print('train NAE = {}'.format(NAE(rate_tr,Y_tr[:,0])))\n",
    "print('train WMAE = {}'.format(WMAE(rate_val,Y_val[:,0],300)))\n",
    "print('train NAE = {}'.format(NAE(rate_val,Y_val[:,0])))\n",
    "\n",
    "mesh_tr = mesh_tr / n_iter\n",
    "mesh_val = mesh_val / n_iter\n",
    "mesh_te = mesh_te / n_iter\n",
    "print('train WMAE = {}'.format(WMAE(mesh_tr,Y_tr[:,1],1)))\n",
    "print('train NAE = {}'.format(NAE(mesh_tr,Y_tr[:,1])))\n",
    "print('train WMAE = {}'.format(WMAE(mesh_val,Y_val[:,1],1)))\n",
    "print('train NAE = {}'.format(NAE(mesh_val,Y_val[:,1])))\n",
    "\n",
    "alpha_tr = alpha_tr / n_iter\n",
    "alpha_val = alpha_val / n_iter\n",
    "alpha_te = alpha_te / n_iter\n",
    "print('train WMAE = {}'.format(WMAE(alpha_tr,Y_tr[:,2],200)))\n",
    "print('train NAE = {}'.format(NAE(alpha_tr,Y_tr[:,2])))\n",
    "print('train WMAE = {}'.format(WMAE(alpha_val,Y_val[:,2],200)))\n",
    "print('train NAE = {}'.format(NAE(alpha_val,Y_val[:,2])))"
   ]
  },
  {
   "cell_type": "code",
   "execution_count": 99,
   "metadata": {
    "scrolled": true
   },
   "outputs": [
    {
     "name": "stdout",
     "output_type": "stream",
     "text": [
      "Training is complete. Total time: 13.64s\n",
      "train WMAE = 28.162861471139355\n",
      "train NAE = 0.7037944755177846\n",
      "train WMAE = 28.236324692480892\n",
      "train NAE = 0.5195836839333107\n"
     ]
    }
   ],
   "source": [
    "st = time.time()\n",
    "model = MLPRegressor(hidden_layer_sizes=(16,16),activation='relu', random_state=26,n_iter_no_change=10,\n",
    "                                       solver='adam',learning_rate='adaptive', verbose=False,\n",
    "                                       max_iter=3000,learning_rate_init=0.01,alpha= 0.01)\n",
    "\n",
    "y = Y_tr[:,0] * 100\n",
    "model.fit(X_tr[:,0:200],y)\n",
    "print('Training is complete. Total time: {:>5.2f}s'.format(time.time()-st))\n",
    "\n",
    "rate_tr = model.predict(X_tr[:,0:200]) / 100\n",
    "rate_val = model.predict(X_val[:,0:200]) / 100\n",
    "rate_te = model.predict(X_te[:,0:200]) / 100\n",
    "\n",
    "print('train WMAE = {}'.format(WMAE(rate_tr,Y_tr[:,0],300)))\n",
    "print('train NAE = {}'.format(NAE(rate_tr,Y_tr[:,0])))\n",
    "print('train WMAE = {}'.format(WMAE(rate_val,Y_val[:,0],300)))\n",
    "print('train NAE = {}'.format(NAE(rate_val,Y_val[:,0])))"
   ]
  },
  {
   "cell_type": "code",
   "execution_count": 101,
   "metadata": {
    "scrolled": false
   },
   "outputs": [
    {
     "name": "stdout",
     "output_type": "stream",
     "text": [
      "Training is complete. Total time: 60.35s\n",
      "train WMAE = 18.777947638634416\n",
      "train NAE = 0.15565746850361248\n",
      "train WMAE = 18.893850114347476\n",
      "train NAE = 0.15811205307176654\n"
     ]
    }
   ],
   "source": [
    "st = time.time()\n",
    "\n",
    "model_y1 = MLPRegressor(hidden_layer_sizes=(15,15),activation='relu', random_state=26,n_iter_no_change=15,\n",
    "                                       solver='adam',learning_rate='adaptive', verbose=False,\n",
    "                                       max_iter=3000,learning_rate_init=0.001)\n",
    "y1 = Y_tr[:,1]\n",
    "model_y1.fit(X_tr[:,0:300], y1)\n",
    "print('Training is complete. Total time: {:>5.2f}s'.format(time.time()-st))\n",
    "\n",
    "meshsize_tr = model_y1.predict(X_tr[:,0:300])\n",
    "meshsize_val = model_y1.predict(X_val[:,0:300])\n",
    "meshsize_te = model_y1.predict(X_te[:,0:300])\n",
    "\n",
    "print('train WMAE = {}'.format(WMAE(meshsize_tr,Y_tr[:,1],1)))\n",
    "print('train NAE = {}'.format(NAE(meshsize_tr,Y_tr[:,1])))\n",
    "print('train WMAE = {}'.format(WMAE(meshsize_val,Y_val[:,1],1)))\n",
    "print('train NAE = {}'.format(NAE(meshsize_val,Y_val[:,1])))"
   ]
  },
  {
   "cell_type": "code",
   "execution_count": 102,
   "metadata": {},
   "outputs": [
    {
     "name": "stdout",
     "output_type": "stream",
     "text": [
      "Training is complete. Total time:  7.40s\n",
      "train WMAE = 1.226322915369723\n",
      "train NAE = 0.008629638532114969\n",
      "train WMAE = 1.2340058740284179\n",
      "train NAE = 0.008642544321601796\n"
     ]
    }
   ],
   "source": [
    "\n",
    "st = time.time()\n",
    "model = MLPRegressor(hidden_layer_sizes=(12,12),activation='relu', random_state=26,n_iter_no_change=10,\n",
    "                                       solver='adam',learning_rate='adaptive', verbose=False,\n",
    "                                       max_iter=1000,learning_rate_init=0.01)\n",
    "\n",
    "y = Y_tr[:,2] * 1000\n",
    "model.fit(X_tr[:,0:100],y)\n",
    "print('Training is complete. Total time: {:>5.2f}s'.format(time.time()-st))\n",
    "\n",
    "alpha_tr = model.predict(X_tr[:,0:100]) / 1000\n",
    "alpha_val = model.predict(X_val[:,0:100]) / 1000\n",
    "alpha_te = model.predict(X_te[:,0:100]) / 1000\n",
    "\n",
    "print('train WMAE = {}'.format(WMAE(alpha_tr,Y_tr[:,2],200)))\n",
    "print('train NAE = {}'.format(NAE(alpha_tr,Y_tr[:,2])))\n",
    "print('train WMAE = {}'.format(WMAE(alpha_val,Y_val[:,2],200)))\n",
    "print('train NAE = {}'.format(NAE(alpha_val,Y_val[:,2])))"
   ]
  },
  {
   "cell_type": "code",
   "execution_count": 103,
   "metadata": {
    "scrolled": true
   },
   "outputs": [
    {
     "name": "stdout",
     "output_type": "stream",
     "text": [
      "WMAE: alpha err = 1.226322915369723, mesh_size err = 18.777947638634416, penetration rate err = 28.162861471139355\n",
      "WMAE = 48.167132025143495\n",
      "NAE: alpha err = 0.008629638532114969, mesh_size err = 0.15565746850361248, penetration rate err = 0.7037944755177846\n",
      "NAE = 0.8680815825535121\n",
      "WMAE: alpha err = 1.2340058740284179, mesh_size err = 18.893850114347476, penetration rate err = 28.236324692480892\n",
      "WMAE = 48.36418068085679\n",
      "NAE: alpha err = 0.008642544321601796, mesh_size err = 0.15811205307176654, penetration rate err = 0.5195836839333107\n",
      "NAE = 0.686338281326679\n"
     ]
    }
   ],
   "source": [
    "Y_pre_tr = np.array([rate_tr,meshsize_tr,alpha_tr]).T\n",
    "Y_pre_val = np.array([rate_val,meshsize_val,alpha_val]).T\n",
    "Y_pre_te = np.array([rate_te,meshsize_te,alpha_te]).T\n",
    "\n",
    "np.savetxt('MLP.csv', Y_pre_te, delimiter=',')\n",
    "err(Y_pre_tr,Y_tr)\n",
    "err(Y_pre_val,Y_val)"
   ]
  },
  {
   "cell_type": "code",
   "execution_count": 6,
   "metadata": {},
   "outputs": [],
   "source": [
    "rate_te = np.loadtxt('gbm_y0_diff.csv')\n",
    "meshsize_te = np.loadtxt('gbm_y1_diff.csv')\n",
    "alpha_te = np.loadtxt('gbm_y2_diff.csv')\n",
    "Y_pre_te = np.array([rate_te,meshsize_te,alpha_te]).T\n",
    "np.savetxt('gbm_diff_v3.csv', Y_pre_te, delimiter=',')"
   ]
  },
  {
   "cell_type": "code",
   "execution_count": null,
   "metadata": {},
   "outputs": [],
   "source": []
  }
 ],
 "metadata": {
  "kernelspec": {
   "display_name": "Python 3",
   "language": "python",
   "name": "python3"
  },
  "language_info": {
   "codemirror_mode": {
    "name": "ipython",
    "version": 3
   },
   "file_extension": ".py",
   "mimetype": "text/x-python",
   "name": "python",
   "nbconvert_exporter": "python",
   "pygments_lexer": "ipython3",
   "version": "3.6.8"
  }
 },
 "nbformat": 4,
 "nbformat_minor": 2
}
