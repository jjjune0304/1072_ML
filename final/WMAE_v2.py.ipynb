{
 "cells": [
  {
   "cell_type": "code",
   "execution_count": 1,
   "metadata": {},
   "outputs": [],
   "source": [
    "import time\n",
    "import numpy as np\n",
    "import matplotlib.pyplot as plt\n",
    "from sklearn.model_selection import train_test_split\n",
    "from sklearn.linear_model import LinearRegression\n",
    "from sklearn.neural_network import MLPRegressor\n",
    "from sklearn.preprocessing import StandardScaler\n"
   ]
  },
  {
   "cell_type": "code",
   "execution_count": 2,
   "metadata": {},
   "outputs": [],
   "source": [
    "def WMAE(predict,Y,weight):\n",
    "    N = Y.shape[0]\n",
    "    diff = np.abs(predict-Y)\n",
    "    WMAE = np.sum(weight * diff) / N\n",
    "    return WMAE\n",
    "    \n",
    "def NAE(predict,Y):\n",
    "    N = Y.shape[0]\n",
    "    diff = np.abs(predict-Y)\n",
    "    diff = np.divide(diff,Y)\n",
    "    NAE = np.sum(diff) / N\n",
    "    return NAE\n",
    "\n",
    "def err(predict,Y):\n",
    "    N = Y.shape[0]\n",
    "    w = [300, 1, 200]\n",
    "    diff = np.abs(predict-Y)\n",
    "    \n",
    "    diff_WMAE = np.multiply(diff,w)\n",
    "    rate_err, mesh_err, alpha_err = np.sum(diff_WMAE[:,0]) / N, np.sum(diff_WMAE[:,1]) / N, np.sum(diff_WMAE[:,2]) / N\n",
    "    print('WMAE: alpha err = {0}, mesh_size err = {1}, penetration rate err = {2}'.format(alpha_err,mesh_err,rate_err))\n",
    "    WMAE = alpha_err + mesh_err + rate_err\n",
    "    print('WMAE = {0}'.format(WMAE))\n",
    "    \n",
    "    diff = np.divide(diff,Y)\n",
    "    rate_err, mesh_err, alpha_err = np.sum(diff[:,0]) / N, np.sum(diff[:,1]) / N, np.sum(diff[:,2]) / N\n",
    "    print('NAE: alpha err = {0}, mesh_size err = {1}, penetration rate err = {2}'.format(alpha_err,mesh_err,rate_err))\n",
    "    NAE = alpha_err + mesh_err + rate_err\n",
    "    print('NAE = {0}'.format(NAE))\n"
   ]
  },
  {
   "cell_type": "code",
   "execution_count": 63,
   "metadata": {},
   "outputs": [],
   "source": [
    "with np.load('X_train.npz') as data:\n",
    "    X_tr = data['arr_0']\n",
    "    \n",
    "with np.load('Y_train.npz') as data:\n",
    "    Y_tr = data['arr_0']\n",
    "\n",
    "with np.load('X_test.npz') as data:\n",
    "    X_te = data['arr_0']\n",
    "\n",
    "X_tr, X_val, Y_tr, Y_val = train_test_split(X_tr, Y_tr, test_size=0.2,random_state=11)\n",
    "\n",
    "\n",
    "# Standardize\n",
    "sc = StandardScaler().fit(X_tr)\n",
    "X_tr = sc.transform(X_tr)\n",
    "X_val = sc.transform(X_val)\n",
    "X_te = sc.transform(X_te)\n",
    "\n"
   ]
  },
  {
   "cell_type": "code",
   "execution_count": 91,
   "metadata": {
    "scrolled": true
   },
   "outputs": [
    {
     "name": "stdout",
     "output_type": "stream",
     "text": [
      "iteration 0 is done.\n",
      "iteration 1 is done.\n",
      "iteration 2 is done.\n",
      "iteration 3 is done.\n",
      "iteration 4 is done.\n"
     ]
    }
   ],
   "source": [
    "# linear regression\n",
    "\n",
    "rate_loss, mesh_loss, alpha_loss = list(),list(),list()\n",
    "\n",
    "st = time.time()\n",
    "for i in range(5):\n",
    "    s = 0\n",
    "    k = 1000 + 1000 * i\n",
    "    X = X_tr[:,s:k]\n",
    "    \n",
    "    x_tr = X_tr[:,s:k]\n",
    "    x_val = X_val[:,s:k]\n",
    "\n",
    "    y0 = Y_tr[:,0]\n",
    "    y1 = Y_tr[:,1]\n",
    "    y2 = Y_tr[:,2]\n",
    "    # ordinary least squares\n",
    "    clf = LinearRegression()\n",
    "    # first target\n",
    "    clf.fit(X, y0)\n",
    "    rate_tr = clf.predict(x_tr)\n",
    "    rate_val = clf.predict(x_val)\n",
    "    # third target\n",
    "    clf.fit(X, y1)\n",
    "    mesh_tr = clf.predict(x_tr)\n",
    "    mesh_val = clf.predict(x_val)\n",
    "    # third target\n",
    "    clf.fit(X, y2)\n",
    "    alpha_tr = clf.predict(x_tr)\n",
    "    alpha_val = clf.predict(x_val)\n",
    "    print('iteration {0} is done.'.format(i))\n",
    "    rate_loss.append(WMAE(rate_val,Y_val[:,0],300))\n",
    "    mesh_loss.append(WMAE(mesh_val,Y_val[:,1],1))\n",
    "    alpha_loss.append(WMAE(alpha_val,Y_val[:,2],200))"
   ]
  },
  {
   "cell_type": "code",
   "execution_count": 92,
   "metadata": {},
   "outputs": [
    {
     "name": "stdout",
     "output_type": "stream",
     "text": [
      "0 0 0\n"
     ]
    },
    {
     "data": {
      "text/plain": [
       "<Figure size 432x288 with 0 Axes>"
      ]
     },
     "metadata": {},
     "output_type": "display_data"
    }
   ],
   "source": [
    "k = range(5)\n",
    "plt.plot(k,rate_loss,color='red',label='rate')\n",
    "plt.scatter(k,rate_loss,color='red', s=30)\n",
    "plt.plot(k,mesh_loss,color='blue',label='mesh size')\n",
    "plt.scatter(k,mesh_loss,color='blue', s=30)\n",
    "plt.plot(k,alpha_loss,color='black',label='alpha')\n",
    "plt.scatter(k,alpha_loss,color='black', s=30)\n",
    "plt.xlabel('MSD feature ( starting from feature 0 )')\n",
    "plt.ylabel('Error')\n",
    "\n",
    "a, b, c = np.argmin(rate_loss), np.argmin(mesh_loss), np.argmin(alpha_loss)\n",
    "print(a,b,c)\n",
    "plt.text(k[a],rate_loss[a]+1,'feature {0}-{1} : {2:.4f}'.format(0,1000+a*1000,rate_loss[a]),fontsize=8,color='red')\n",
    "plt.scatter(k[a],rate_loss[a],color='red', s=30)\n",
    "plt.text(k[b],mesh_loss[b]+1,'feature {0}-{1} : {2:.4f}'.format(0,1000+b*1000,mesh_loss[b]),fontsize=8,color='blue')\n",
    "plt.scatter(k[b],mesh_loss[b],color='blue', s=30)\n",
    "plt.text(k[c],alpha_loss[c]+1,'feature {0}-{1} : {2:.4f}'.format(0,1000+c*1000,alpha_loss[c]),fontsize=8,color='black')\n",
    "plt.scatter(k[c],alpha_loss[c],color='black', s=30)\n",
    "'''\n",
    "for i,j in enumerate(rate_loss):\n",
    "    plt.text(k[i]+0.01,j+100,'{0:.2f}'.format(j),fontsize=8,color='red')\n",
    "for i,j in enumerate(mesh_loss):\n",
    "    plt.text(k[i]-0.1,j-100,'{0:.3f}'.format(j),fontsize=8,color='blue')\n",
    "for i,j in enumerate(alpha_loss):\n",
    "    plt.text(k[i]-0.1,j+100,'{0:.3f}'.format(j),fontsize=8,color='black')\n",
    "'''\n",
    "plt.xticks(range(5),range(1000,6000,1000))\n",
    "plt.legend(loc='upper right')\n",
    "plt.savefig('loss.png', dpi=300)\n",
    "plt.clf()"
   ]
  },
  {
   "cell_type": "code",
   "execution_count": 88,
   "metadata": {
    "scrolled": false
   },
   "outputs": [
    {
     "name": "stdout",
     "output_type": "stream",
     "text": [
      "iteration 0 is done.\n",
      "iteration 1 is done.\n",
      "iteration 2 is done.\n",
      "iteration 3 is done.\n",
      "iteration 4 is done.\n",
      "iteration 5 is done.\n",
      "iteration 6 is done.\n"
     ]
    }
   ],
   "source": [
    "rate_loss, mesh_loss, alpha_loss = list(),list(),list()\n",
    "\n",
    "st = time.time()\n",
    "for i in range(7):\n",
    "    s = 5300\n",
    "    k = 5400 + i * 100\n",
    "    X = X_tr[:,s:k]\n",
    "    \n",
    "    x_tr = X_tr[:,s:k]\n",
    "    x_val = X_val[:,s:k]\n",
    "\n",
    "    #y0 = Y_tr[:,0]\n",
    "    #y1 = Y_tr[:,1]\n",
    "    y2 = Y_tr[:,2]\n",
    "    # ordinary least squares\n",
    "    clf = LinearRegression()\n",
    "    '''\n",
    "    # first target\n",
    "    clf.fit(X, y0)\n",
    "    rate_tr = clf.predict(x_tr)\n",
    "    rate_val = clf.predict(x_val)\n",
    "    # third target\n",
    "    clf.fit(X, y1)\n",
    "    mesh_tr = clf.predict(x_tr)\n",
    "    mesh_val = clf.predict(x_val)\n",
    "    '''\n",
    "    # third target\n",
    "    clf.fit(X, y2)\n",
    "    alpha_tr = clf.predict(x_tr)\n",
    "    alpha_val = clf.predict(x_val)\n",
    "    print('iteration {0} is done.'.format(i))\n",
    "    #rate_loss.append(WMAE(rate_val,Y_val[:,0],300))\n",
    "    #mesh_loss.append(WMAE(mesh_val,Y_val[:,1],1))\n",
    "    alpha_loss.append(WMAE(alpha_val,Y_val[:,2],200))\n"
   ]
  },
  {
   "cell_type": "code",
   "execution_count": 90,
   "metadata": {},
   "outputs": [
    {
     "data": {
      "text/plain": [
       "<Figure size 432x288 with 0 Axes>"
      ]
     },
     "metadata": {},
     "output_type": "display_data"
    }
   ],
   "source": [
    "k = range(7)\n",
    "'''\n",
    "plt.plot(k,rate_loss,color='red',label='rate')\n",
    "plt.scatter(k,rate_loss,color='red', s=30)\n",
    "plt.plot(k,mesh_loss,color='blue',label='mesh size')\n",
    "plt.scatter(k,mesh_loss,color='blue', s=30)\n",
    "'''\n",
    "plt.plot(k,alpha_loss,color='black',label='alpha')\n",
    "plt.scatter(k,alpha_loss,color='black', s=30)\n",
    "plt.xlabel('VAC feature (starting from feature 5300)')\n",
    "plt.ylabel('Error')\n",
    "\n",
    "#a, b, c = np.argmin(rate_loss), np.argmin(mesh_loss), np.argmin(alpha_loss)\n",
    "c = np.argmin(alpha_loss)\n",
    "\n",
    "#plt.text(k[a],rate_loss[a]+1,'feature {0}-{1} : {2:.2f}'.format(5000,6000+a*1000,rate_loss[a]),fontsize=8,color='red')\n",
    "#plt.text(k[b],mesh_loss[b]+1,'feature {0}-{1} : {2:.2f}'.format(5000,6000+b*1000,mesh_loss[b]),fontsize=8,color='blue')\n",
    "plt.text(k[c]-1,alpha_loss[c]+0.01,'feature {0}-{1} : {2:.4f}'.format(5300,5400+c*100,alpha_loss[c]),fontsize=8,color='black')\n",
    "'''\n",
    "for i,j in enumerate(rate_loss):\n",
    "    plt.text(k[i]+0.01,j+100,'{0:.2f}'.format(j),fontsize=8,color='red')\n",
    "for i,j in enumerate(mesh_loss):\n",
    "    plt.text(k[i]-0.1,j-100,'{0:.3f}'.format(j),fontsize=8,color='blue')\n",
    "for i,j in enumerate(alpha_loss):\n",
    "    plt.text(k[i]-0.1,j+100,'{0:.3f}'.format(j),fontsize=8,color='black')\n",
    "'''\n",
    "plt.xticks(range(7),range(100,800,100))\n",
    "plt.legend(loc='upper right')\n",
    "plt.savefig('vac_loss_v4.png', dpi=300)\n",
    "plt.clf()"
   ]
  },
  {
   "cell_type": "code",
   "execution_count": 53,
   "metadata": {},
   "outputs": [],
   "source": [
    "rate_te = np.loadtxt('gbm_y0.csv')\n",
    "meshsize_te = np.loadtxt('gbm_y1.csv')\n",
    "alpha_te = np.loadtxt('gbm_y2.csv')\n",
    "Y_pre_te = np.array([rate_te,meshsize_te,alpha_te]).T\n",
    "np.savetxt('gbm.csv', Y_pre_te, delimiter=',')"
   ]
  },
  {
   "cell_type": "code",
   "execution_count": null,
   "metadata": {},
   "outputs": [],
   "source": []
  }
 ],
 "metadata": {
  "kernelspec": {
   "display_name": "Python 3",
   "language": "python",
   "name": "python3"
  },
  "language_info": {
   "codemirror_mode": {
    "name": "ipython",
    "version": 3
   },
   "file_extension": ".py",
   "mimetype": "text/x-python",
   "name": "python",
   "nbconvert_exporter": "python",
   "pygments_lexer": "ipython3",
   "version": "3.6.8"
  }
 },
 "nbformat": 4,
 "nbformat_minor": 2
}
