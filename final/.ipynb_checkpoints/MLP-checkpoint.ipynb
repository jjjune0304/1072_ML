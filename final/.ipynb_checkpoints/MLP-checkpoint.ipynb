{
 "cells": [
  {
   "cell_type": "code",
   "execution_count": 8,
   "metadata": {},
   "outputs": [],
   "source": [
    "import time\n",
    "import numpy as np\n",
    "import matplotlib.pyplot as plt\n",
    "from sklearn.model_selection import train_test_split\n",
    "from sklearn.linear_model import LinearRegression\n",
    "from sklearn.neural_network import MLPRegressor\n",
    "from sklearn.preprocessing import StandardScaler\n"
   ]
  },
  {
   "cell_type": "code",
   "execution_count": 2,
   "metadata": {},
   "outputs": [],
   "source": [
    "def WMAE(predict,Y,weight):\n",
    "    N = Y.shape[0]\n",
    "    diff = np.abs(predict-Y)\n",
    "    WMAE = np.sum(weight * diff) / N\n",
    "    return WMAE\n",
    "    \n",
    "def NAE(predict,Y):\n",
    "    N = Y.shape[0]\n",
    "    diff = np.abs(predict-Y)\n",
    "    diff = np.divide(diff,Y)\n",
    "    NAE = np.sum(diff) / N\n",
    "    return NAE\n",
    "\n",
    "def err(predict,Y):\n",
    "    N = Y.shape[0]\n",
    "    w = [300, 1, 200]\n",
    "    diff = np.abs(predict-Y)\n",
    "    \n",
    "    diff_WMAE = np.multiply(diff,w)\n",
    "    rate_err, mesh_err, alpha_err = np.sum(diff_WMAE[:,0]) / N, np.sum(diff_WMAE[:,1]) / N, np.sum(diff_WMAE[:,2]) / N\n",
    "    print('WMAE: alpha err = {0}, mesh_size err = {1}, penetration rate err = {2}'.format(alpha_err,mesh_err,rate_err))\n",
    "    WMAE = alpha_err + mesh_err + rate_err\n",
    "    print('WMAE = {0}'.format(WMAE))\n",
    "    \n",
    "    diff = np.divide(diff,Y)\n",
    "    rate_err, mesh_err, alpha_err = np.sum(diff[:,0]) / N, np.sum(diff[:,1]) / N, np.sum(diff[:,2]) / N\n",
    "    print('NAE: alpha err = {0}, mesh_size err = {1}, penetration rate err = {2}'.format(alpha_err,mesh_err,rate_err))\n",
    "    NAE = alpha_err + mesh_err + rate_err\n",
    "    print('NAE = {0}'.format(NAE))\n",
    "\n",
    "def craft_feature_selection(X_train, sample_interval = 100):\n",
    "    a,b = X_train.shape\n",
    "    num_feature1 = int(5000/sample_interval)\n",
    "    num_features = 50 * (2+1) + num_feature1\n",
    "    X_reduced_train = np.zeros((a, num_features))\n",
    "    X_reduced_train[:, :num_feature1] = X_train[:,50:5050:sample_interval]\n",
    "    for i in range(50):\n",
    "        X_reduced_train[:,num_feature1 + i*3 + 0] = np.min(X_train[:,(5000 + i * 100):(5000 + (i+1) * 100)], axis = 1)\n",
    "        X_reduced_train[:,num_feature1 + i*3 + 1] = X_train[:,(5000 + i * 100):(5000 + (i+1) * 100)][:,-1]\n",
    "        X_reduced_train[:,num_feature1 + i*3 + 2] = np.argmin(X_train[:,(5000 + i * 100):(5000 + (i+1) * 100)], axis = 1)\n",
    "    return X_reduced_train"
   ]
  },
  {
   "cell_type": "code",
   "execution_count": 3,
   "metadata": {},
   "outputs": [],
   "source": [
    "with np.load('X_train.npz') as data:\n",
    "    X_tr = data['arr_0']\n",
    "    \n",
    "with np.load('Y_train.npz') as data:\n",
    "    Y_tr = data['arr_0']\n",
    "\n",
    "with np.load('X_test.npz') as data:\n",
    "    X_te = data['arr_0']\n",
    "\n",
    "X_tr, X_val, Y_tr, Y_val = train_test_split(X_tr, Y_tr, test_size=0.2,random_state=11)\n",
    "\n",
    "\n",
    "# Standardize\n",
    "sc = StandardScaler().fit(X_tr)\n",
    "X_tr = sc.transform(X_tr)\n",
    "X_val = sc.transform(X_val)\n",
    "X_te = sc.transform(X_te)\n"
   ]
  },
  {
   "cell_type": "code",
   "execution_count": 4,
   "metadata": {},
   "outputs": [],
   "source": [
    "N_train = X_tr.shape[0]\n",
    "N_val = X_val.shape[0]\n",
    "N_test = X_te.shape[0]\n",
    "D = X_tr.shape[1]"
   ]
  },
  {
   "cell_type": "code",
   "execution_count": 11,
   "metadata": {},
   "outputs": [
    {
     "name": "stdout",
     "output_type": "stream",
     "text": [
      "iteration 0 is done.\n",
      "iteration 1 is done.\n",
      "iteration 2 is done.\n",
      "iteration 3 is done.\n",
      "iteration 4 is done.\n",
      "iteration 5 is done.\n",
      "iteration 6 is done.\n",
      "iteration 7 is done.\n",
      "iteration 8 is done.\n",
      "iteration 9 is done.\n"
     ]
    },
    {
     "ename": "ValueError",
     "evalue": "x and y must have same first dimension, but have shapes (5,) and (10,)",
     "output_type": "error",
     "traceback": [
      "\u001b[0;31m---------------------------------------------------------------------------\u001b[0m",
      "\u001b[0;31mValueError\u001b[0m                                Traceback (most recent call last)",
      "\u001b[0;32m<ipython-input-11-41c92b3345ab>\u001b[0m in \u001b[0;36m<module>\u001b[0;34m\u001b[0m\n\u001b[1;32m     38\u001b[0m \u001b[0;34m\u001b[0m\u001b[0m\n\u001b[1;32m     39\u001b[0m \u001b[0mk\u001b[0m \u001b[0;34m=\u001b[0m \u001b[0mrange\u001b[0m\u001b[0;34m(\u001b[0m\u001b[0;36m5\u001b[0m\u001b[0;34m)\u001b[0m\u001b[0;34m\u001b[0m\u001b[0;34m\u001b[0m\u001b[0m\n\u001b[0;32m---> 40\u001b[0;31m \u001b[0mplt\u001b[0m\u001b[0;34m.\u001b[0m\u001b[0mplot\u001b[0m\u001b[0;34m(\u001b[0m\u001b[0mk\u001b[0m\u001b[0;34m,\u001b[0m\u001b[0mrate_loss\u001b[0m\u001b[0;34m,\u001b[0m\u001b[0mcolor\u001b[0m\u001b[0;34m=\u001b[0m\u001b[0;34m'red'\u001b[0m\u001b[0;34m,\u001b[0m\u001b[0mlabel\u001b[0m\u001b[0;34m=\u001b[0m\u001b[0;34m'rate'\u001b[0m\u001b[0;34m)\u001b[0m\u001b[0;34m\u001b[0m\u001b[0;34m\u001b[0m\u001b[0m\n\u001b[0m\u001b[1;32m     41\u001b[0m \u001b[0;31m#plt.scatter(k,rate_loss,color='red', s=30)\u001b[0m\u001b[0;34m\u001b[0m\u001b[0;34m\u001b[0m\u001b[0;34m\u001b[0m\u001b[0m\n\u001b[1;32m     42\u001b[0m \u001b[0mplt\u001b[0m\u001b[0;34m.\u001b[0m\u001b[0mplot\u001b[0m\u001b[0;34m(\u001b[0m\u001b[0mk\u001b[0m\u001b[0;34m,\u001b[0m\u001b[0mmesh_loss\u001b[0m\u001b[0;34m,\u001b[0m\u001b[0mcolor\u001b[0m\u001b[0;34m=\u001b[0m\u001b[0;34m'blue'\u001b[0m\u001b[0;34m,\u001b[0m\u001b[0mlabel\u001b[0m\u001b[0;34m=\u001b[0m\u001b[0;34m'mesh size'\u001b[0m\u001b[0;34m)\u001b[0m\u001b[0;34m\u001b[0m\u001b[0;34m\u001b[0m\u001b[0m\n",
      "\u001b[0;32m~/anaconda3/envs/myenv/lib/python3.6/site-packages/matplotlib/pyplot.py\u001b[0m in \u001b[0;36mplot\u001b[0;34m(scalex, scaley, data, *args, **kwargs)\u001b[0m\n\u001b[1;32m   2787\u001b[0m     return gca().plot(\n\u001b[1;32m   2788\u001b[0m         *args, scalex=scalex, scaley=scaley, **({\"data\": data} if data\n\u001b[0;32m-> 2789\u001b[0;31m         is not None else {}), **kwargs)\n\u001b[0m\u001b[1;32m   2790\u001b[0m \u001b[0;34m\u001b[0m\u001b[0m\n\u001b[1;32m   2791\u001b[0m \u001b[0;34m\u001b[0m\u001b[0m\n",
      "\u001b[0;32m~/anaconda3/envs/myenv/lib/python3.6/site-packages/matplotlib/axes/_axes.py\u001b[0m in \u001b[0;36mplot\u001b[0;34m(self, scalex, scaley, data, *args, **kwargs)\u001b[0m\n\u001b[1;32m   1664\u001b[0m         \"\"\"\n\u001b[1;32m   1665\u001b[0m         \u001b[0mkwargs\u001b[0m \u001b[0;34m=\u001b[0m \u001b[0mcbook\u001b[0m\u001b[0;34m.\u001b[0m\u001b[0mnormalize_kwargs\u001b[0m\u001b[0;34m(\u001b[0m\u001b[0mkwargs\u001b[0m\u001b[0;34m,\u001b[0m \u001b[0mmlines\u001b[0m\u001b[0;34m.\u001b[0m\u001b[0mLine2D\u001b[0m\u001b[0;34m.\u001b[0m\u001b[0m_alias_map\u001b[0m\u001b[0;34m)\u001b[0m\u001b[0;34m\u001b[0m\u001b[0;34m\u001b[0m\u001b[0m\n\u001b[0;32m-> 1666\u001b[0;31m         \u001b[0mlines\u001b[0m \u001b[0;34m=\u001b[0m \u001b[0;34m[\u001b[0m\u001b[0;34m*\u001b[0m\u001b[0mself\u001b[0m\u001b[0;34m.\u001b[0m\u001b[0m_get_lines\u001b[0m\u001b[0;34m(\u001b[0m\u001b[0;34m*\u001b[0m\u001b[0margs\u001b[0m\u001b[0;34m,\u001b[0m \u001b[0mdata\u001b[0m\u001b[0;34m=\u001b[0m\u001b[0mdata\u001b[0m\u001b[0;34m,\u001b[0m \u001b[0;34m**\u001b[0m\u001b[0mkwargs\u001b[0m\u001b[0;34m)\u001b[0m\u001b[0;34m]\u001b[0m\u001b[0;34m\u001b[0m\u001b[0;34m\u001b[0m\u001b[0m\n\u001b[0m\u001b[1;32m   1667\u001b[0m         \u001b[0;32mfor\u001b[0m \u001b[0mline\u001b[0m \u001b[0;32min\u001b[0m \u001b[0mlines\u001b[0m\u001b[0;34m:\u001b[0m\u001b[0;34m\u001b[0m\u001b[0;34m\u001b[0m\u001b[0m\n\u001b[1;32m   1668\u001b[0m             \u001b[0mself\u001b[0m\u001b[0;34m.\u001b[0m\u001b[0madd_line\u001b[0m\u001b[0;34m(\u001b[0m\u001b[0mline\u001b[0m\u001b[0;34m)\u001b[0m\u001b[0;34m\u001b[0m\u001b[0;34m\u001b[0m\u001b[0m\n",
      "\u001b[0;32m~/anaconda3/envs/myenv/lib/python3.6/site-packages/matplotlib/axes/_base.py\u001b[0m in \u001b[0;36m__call__\u001b[0;34m(self, *args, **kwargs)\u001b[0m\n\u001b[1;32m    223\u001b[0m                 \u001b[0mthis\u001b[0m \u001b[0;34m+=\u001b[0m \u001b[0margs\u001b[0m\u001b[0;34m[\u001b[0m\u001b[0;36m0\u001b[0m\u001b[0;34m]\u001b[0m\u001b[0;34m,\u001b[0m\u001b[0;34m\u001b[0m\u001b[0;34m\u001b[0m\u001b[0m\n\u001b[1;32m    224\u001b[0m                 \u001b[0margs\u001b[0m \u001b[0;34m=\u001b[0m \u001b[0margs\u001b[0m\u001b[0;34m[\u001b[0m\u001b[0;36m1\u001b[0m\u001b[0;34m:\u001b[0m\u001b[0;34m]\u001b[0m\u001b[0;34m\u001b[0m\u001b[0;34m\u001b[0m\u001b[0m\n\u001b[0;32m--> 225\u001b[0;31m             \u001b[0;32myield\u001b[0m \u001b[0;32mfrom\u001b[0m \u001b[0mself\u001b[0m\u001b[0;34m.\u001b[0m\u001b[0m_plot_args\u001b[0m\u001b[0;34m(\u001b[0m\u001b[0mthis\u001b[0m\u001b[0;34m,\u001b[0m \u001b[0mkwargs\u001b[0m\u001b[0;34m)\u001b[0m\u001b[0;34m\u001b[0m\u001b[0;34m\u001b[0m\u001b[0m\n\u001b[0m\u001b[1;32m    226\u001b[0m \u001b[0;34m\u001b[0m\u001b[0m\n\u001b[1;32m    227\u001b[0m     \u001b[0;32mdef\u001b[0m \u001b[0mget_next_color\u001b[0m\u001b[0;34m(\u001b[0m\u001b[0mself\u001b[0m\u001b[0;34m)\u001b[0m\u001b[0;34m:\u001b[0m\u001b[0;34m\u001b[0m\u001b[0;34m\u001b[0m\u001b[0m\n",
      "\u001b[0;32m~/anaconda3/envs/myenv/lib/python3.6/site-packages/matplotlib/axes/_base.py\u001b[0m in \u001b[0;36m_plot_args\u001b[0;34m(self, tup, kwargs)\u001b[0m\n\u001b[1;32m    389\u001b[0m             \u001b[0mx\u001b[0m\u001b[0;34m,\u001b[0m \u001b[0my\u001b[0m \u001b[0;34m=\u001b[0m \u001b[0mindex_of\u001b[0m\u001b[0;34m(\u001b[0m\u001b[0mtup\u001b[0m\u001b[0;34m[\u001b[0m\u001b[0;34m-\u001b[0m\u001b[0;36m1\u001b[0m\u001b[0;34m]\u001b[0m\u001b[0;34m)\u001b[0m\u001b[0;34m\u001b[0m\u001b[0;34m\u001b[0m\u001b[0m\n\u001b[1;32m    390\u001b[0m \u001b[0;34m\u001b[0m\u001b[0m\n\u001b[0;32m--> 391\u001b[0;31m         \u001b[0mx\u001b[0m\u001b[0;34m,\u001b[0m \u001b[0my\u001b[0m \u001b[0;34m=\u001b[0m \u001b[0mself\u001b[0m\u001b[0;34m.\u001b[0m\u001b[0m_xy_from_xy\u001b[0m\u001b[0;34m(\u001b[0m\u001b[0mx\u001b[0m\u001b[0;34m,\u001b[0m \u001b[0my\u001b[0m\u001b[0;34m)\u001b[0m\u001b[0;34m\u001b[0m\u001b[0;34m\u001b[0m\u001b[0m\n\u001b[0m\u001b[1;32m    392\u001b[0m \u001b[0;34m\u001b[0m\u001b[0m\n\u001b[1;32m    393\u001b[0m         \u001b[0;32mif\u001b[0m \u001b[0mself\u001b[0m\u001b[0;34m.\u001b[0m\u001b[0mcommand\u001b[0m \u001b[0;34m==\u001b[0m \u001b[0;34m'plot'\u001b[0m\u001b[0;34m:\u001b[0m\u001b[0;34m\u001b[0m\u001b[0;34m\u001b[0m\u001b[0m\n",
      "\u001b[0;32m~/anaconda3/envs/myenv/lib/python3.6/site-packages/matplotlib/axes/_base.py\u001b[0m in \u001b[0;36m_xy_from_xy\u001b[0;34m(self, x, y)\u001b[0m\n\u001b[1;32m    268\u001b[0m         \u001b[0;32mif\u001b[0m \u001b[0mx\u001b[0m\u001b[0;34m.\u001b[0m\u001b[0mshape\u001b[0m\u001b[0;34m[\u001b[0m\u001b[0;36m0\u001b[0m\u001b[0;34m]\u001b[0m \u001b[0;34m!=\u001b[0m \u001b[0my\u001b[0m\u001b[0;34m.\u001b[0m\u001b[0mshape\u001b[0m\u001b[0;34m[\u001b[0m\u001b[0;36m0\u001b[0m\u001b[0;34m]\u001b[0m\u001b[0;34m:\u001b[0m\u001b[0;34m\u001b[0m\u001b[0;34m\u001b[0m\u001b[0m\n\u001b[1;32m    269\u001b[0m             raise ValueError(\"x and y must have same first dimension, but \"\n\u001b[0;32m--> 270\u001b[0;31m                              \"have shapes {} and {}\".format(x.shape, y.shape))\n\u001b[0m\u001b[1;32m    271\u001b[0m         \u001b[0;32mif\u001b[0m \u001b[0mx\u001b[0m\u001b[0;34m.\u001b[0m\u001b[0mndim\u001b[0m \u001b[0;34m>\u001b[0m \u001b[0;36m2\u001b[0m \u001b[0;32mor\u001b[0m \u001b[0my\u001b[0m\u001b[0;34m.\u001b[0m\u001b[0mndim\u001b[0m \u001b[0;34m>\u001b[0m \u001b[0;36m2\u001b[0m\u001b[0;34m:\u001b[0m\u001b[0;34m\u001b[0m\u001b[0;34m\u001b[0m\u001b[0m\n\u001b[1;32m    272\u001b[0m             raise ValueError(\"x and y can be no greater than 2-D, but have \"\n",
      "\u001b[0;31mValueError\u001b[0m: x and y must have same first dimension, but have shapes (5,) and (10,)"
     ]
    },
    {
     "data": {
      "image/png": "[encoded data removed]",
      "text/plain": [
       "<Figure size 432x288 with 1 Axes>"
      ]
     },
     "metadata": {
      "needs_background": "light"
     },
     "output_type": "display_data"
    }
   ],
   "source": [
    "# linear regression\n",
    "rate_tr, rate_val, rate_te = np.zeros(N_train), np.zeros(N_val), np.zeros(N_test)\n",
    "mesh_tr, mesh_val, mesh_te = np.zeros(N_train), np.zeros(N_val), np.zeros(N_test)\n",
    "alpha_tr, alpha_val, alpha_te = np.zeros(N_train), np.zeros(N_val), np.zeros(N_test)\n",
    "\n",
    "rate_loss, mesh_loss, alpha_loss = list(),list(),list()\n",
    "\n",
    "random_step = np.random.randint(low=10,high=30,size=n_iter)\n",
    "st = time.time()\n",
    "for i in range(10):\n",
    "    k = 100 + 100 * i\n",
    "    X = X_tr[:,0:k]\n",
    "    \n",
    "    x_tr = X_tr[:,0:k]\n",
    "    x_val = X_val[:,0:k]\n",
    "\n",
    "    y0 = Y_tr[:,0]\n",
    "    y1 = Y_tr[:,1]\n",
    "    y2 = Y_tr[:,2]\n",
    "    # ordinary least squares\n",
    "    clf = LinearRegression()\n",
    "    # first target\n",
    "    clf.fit(X, y0)\n",
    "    rate_tr = clf.predict(x_tr)\n",
    "    rate_val = clf.predict(x_val)\n",
    "    # third target\n",
    "    clf.fit(X, y1)\n",
    "    mesh_tr = clf.predict(x_tr)\n",
    "    mesh_val = clf.predict(x_val)\n",
    "    # third target\n",
    "    clf.fit(X, y2)\n",
    "    alpha_tr += clf.predict(x_tr)\n",
    "    alpha_val += clf.predict(x_val)\n",
    "    print('iteration {0} is done.'.format(i))\n",
    "    rate_loss.append(WMAE(rate_val,Y_val[:,0],300))\n",
    "    mesh_loss.append(WMAE(mesh_val,Y_val[:,1],1))\n",
    "    alpha_loss.append(WMAE(alpha_val,Y_val[:,2],200))\n"
   ]
  },
  {
   "cell_type": "code",
   "execution_count": 20,
   "metadata": {},
   "outputs": [
    {
     "name": "stdout",
     "output_type": "stream",
     "text": [
      "1 2 0\n"
     ]
    },
    {
     "data": {
      "text/plain": [
       "<Figure size 432x288 with 0 Axes>"
      ]
     },
     "metadata": {},
     "output_type": "display_data"
    }
   ],
   "source": [
    "k = range(10)\n",
    "plt.plot(k,rate_loss,color='red',label='rate')\n",
    "plt.scatter(k,rate_loss,color='red', s=30)\n",
    "plt.plot(k,mesh_loss,color='blue',label='mesh size')\n",
    "plt.scatter(k,mesh_loss,color='blue', s=30)\n",
    "plt.plot(k,alpha_loss,color='black',label='alpha')\n",
    "plt.scatter(k,alpha_loss,color='black', s=30)\n",
    "plt.xlabel('feature')\n",
    "plt.ylabel('Error')\n",
    "\n",
    "a, b, c = np.argmin(rate_loss), np.argmin(mesh_loss), np.argmin(alpha_loss)\n",
    "print(a,b,c)\n",
    "plt.text(k[a],rate_loss[a]+10,'{0:.2f}'.format(rate_loss[a]),fontsize=8,color='red')\n",
    "plt.text(k[b],mesh_loss[b]+10,'{0:.2f}'.format(mesh_loss[b]),fontsize=8,color='blue')\n",
    "plt.text(k[c],alpha_loss[c]+10,'{0:.2f}'.format(alpha_loss[c]),fontsize=8,color='black')\n",
    "'''\n",
    "for i,j in enumerate(rate_loss):\n",
    "    plt.text(k[i]+0.01,j+100,'{0:.2f}'.format(j),fontsize=8,color='red')\n",
    "for i,j in enumerate(mesh_loss):\n",
    "    plt.text(k[i]-0.1,j-100,'{0:.3f}'.format(j),fontsize=8,color='blue')\n",
    "for i,j in enumerate(alpha_loss):\n",
    "    plt.text(k[i]-0.1,j+100,'{0:.3f}'.format(j),fontsize=8,color='black')\n",
    "'''\n",
    "plt.xticks(range(10),range(100,1100,100))\n",
    "plt.legend(loc='upper right')\n",
    "plt.savefig('loss.png', dpi=300)\n",
    "plt.clf()"
   ]
  },
  {
   "cell_type": "code",
   "execution_count": null,
   "metadata": {
    "scrolled": true
   },
   "outputs": [],
   "source": [
    "# Uniform voting of linear regression with bagging\n",
    "rate_tr, rate_val, rate_te = np.zeros(N_train), np.zeros(N_val), np.zeros(N_test)\n",
    "mesh_tr, mesh_val, mesh_te = np.zeros(N_train), np.zeros(N_val), np.zeros(N_test)\n",
    "alpha_tr, alpha_val, alpha_te = np.zeros(N_train), np.zeros(N_val), np.zeros(N_test)\n",
    "\n",
    "n_iter = 300\n",
    "st = time.time()\n",
    "for i in range(n_iter):\n",
    "    random_id = np.random.choice(N_train, size=int( 0.5 * N_train),replace=False)\n",
    "    X = X_tr[random_id,:]\n",
    "    \n",
    "    x_tr = X_tr[:,0:200]\n",
    "    x_val = X_val[:,0:300]\n",
    "    x_te = X_te[:,0:100]\n",
    "\n",
    "    y0 = Y_tr[random_id,0]\n",
    "    y1 = Y_tr[random_id,1]\n",
    "    y2 = Y_tr[random_id,2]\n",
    "    # ordinary least squares\n",
    "    clf = LinearRegression()\n",
    "    # first target\n",
    "    clf.fit(X[:,0:200], y0)\n",
    "    rate_tr += clf.predict(x_tr)\n",
    "    rate_val += clf.predict(x_val)\n",
    "    rate_te += clf.predict(x_te)\n",
    "    # third target\n",
    "    clf.fit(X[:,0:300], y1)\n",
    "    mesh_tr += clf.predict(x_tr)\n",
    "    mesh_val += clf.predict(x_val)\n",
    "    mesh_te += clf.predict(x_te)\n",
    "    # third target\n",
    "    clf.fit(X[:,0:100], y2)\n",
    "    alpha_tr += clf.predict(x_tr)\n",
    "    alpha_val += clf.predict(x_val)\n",
    "    alpha_te += clf.predict(x_te)\n",
    "    print('iteration {0} is done.'.format(i))\n",
    "\n",
    "print('Training is complete. Total time: {:>5.2f}s'.format(time.time()-st))\n",
    "\n",
    "rate_tr = rate_tr / n_iter\n",
    "rate_val = rate_val / n_iter\n",
    "rate_te = rate_te / n_iter\n",
    "print('train WMAE = {}'.format(WMAE(rate_tr,Y_tr[:,0],300)))\n",
    "print('train NAE = {}'.format(NAE(rate_tr,Y_tr[:,0])))\n",
    "print('train WMAE = {}'.format(WMAE(rate_val,Y_val[:,0],300)))\n",
    "print('train NAE = {}'.format(NAE(rate_val,Y_val[:,0])))\n",
    "\n",
    "mesh_tr = mesh_tr / n_iter\n",
    "mesh_val = mesh_val / n_iter\n",
    "mesh_te = mesh_te / n_iter\n",
    "print('train WMAE = {}'.format(WMAE(mesh_tr,Y_tr[:,1],1)))\n",
    "print('train NAE = {}'.format(NAE(mesh_tr,Y_tr[:,1])))\n",
    "print('train WMAE = {}'.format(WMAE(mesh_val,Y_val[:,1],1)))\n",
    "print('train NAE = {}'.format(NAE(mesh_val,Y_val[:,1])))\n",
    "\n",
    "alpha_tr = alpha_tr / n_iter\n",
    "alpha_val = alpha_val / n_iter\n",
    "alpha_te = alpha_te / n_iter\n",
    "print('train WMAE = {}'.format(WMAE(alpha_tr,Y_tr[:,2],200)))\n",
    "print('train NAE = {}'.format(NAE(alpha_tr,Y_tr[:,2])))\n",
    "print('train WMAE = {}'.format(WMAE(alpha_val,Y_val[:,2],200)))\n",
    "print('train NAE = {}'.format(NAE(alpha_val,Y_val[:,2])))"
   ]
  },
  {
   "cell_type": "code",
   "execution_count": 87,
   "metadata": {},
   "outputs": [],
   "source": [
    "# Standardize\n",
    "sc = StandardScaler().fit(X_tr)\n",
    "X_tr = sc.transform(X_tr)\n",
    "X_val = sc.transform(X_val)\n",
    "X_te = sc.transform(X_te)"
   ]
  },
  {
   "cell_type": "code",
   "execution_count": 89,
   "metadata": {
    "scrolled": true
   },
   "outputs": [
    {
     "name": "stdout",
     "output_type": "stream",
     "text": [
      "Training is complete. Total time: 40.67s\n",
      "train WMAE = 49.08897984335825\n",
      "train NAE = 1.0862916085131546\n",
      "train WMAE = 50.18063429802696\n",
      "train NAE = 0.9165066901760993\n"
     ]
    }
   ],
   "source": [
    "st = time.time()\n",
    "model = MLPRegressor(hidden_layer_sizes=(20,20,20),activation='relu', random_state=26,n_iter_no_change=10,\n",
    "                                       solver='adam',learning_rate='adaptive', verbose=False,\n",
    "                                       max_iter=1000,learning_rate_init=0.001,alpha= 0.01)\n",
    "\n",
    "y = Y_tr[:,0] * 100\n",
    "model.fit(X_tr,y)\n",
    "print('Training is complete. Total time: {:>5.2f}s'.format(time.time()-st))\n",
    "\n",
    "rate_tr = model.predict(X_tr) / 100\n",
    "rate_val = model.predict(X_val) / 100\n",
    "rate_te = model.predict(X_te) / 100\n",
    "\n",
    "print('train WMAE = {}'.format(WMAE(rate_tr,Y_tr[:,0],300)))\n",
    "print('train NAE = {}'.format(NAE(rate_tr,Y_tr[:,0])))\n",
    "print('train WMAE = {}'.format(WMAE(rate_val,Y_val[:,0],300)))\n",
    "print('train NAE = {}'.format(NAE(rate_val,Y_val[:,0])))"
   ]
  },
  {
   "cell_type": "code",
   "execution_count": 90,
   "metadata": {
    "scrolled": false
   },
   "outputs": [
    {
     "name": "stdout",
     "output_type": "stream",
     "text": [
      "Training is complete. Total time: 79.33s\n",
      "train WMAE = 24.212481095447973\n",
      "train NAE = 0.21196698110105056\n",
      "train WMAE = 25.046690451463185\n",
      "train NAE = 0.22105328030696866\n"
     ]
    }
   ],
   "source": [
    "st = time.time()\n",
    "\n",
    "model_y1 = MLPRegressor(hidden_layer_sizes=(16,16,16),activation='relu', random_state=26,n_iter_no_change=15,\n",
    "                                       solver='adam',learning_rate='adaptive', verbose=False,\n",
    "                                       max_iter=1000,learning_rate_init=0.01,alpha=0.01)\n",
    "y1 = Y_tr[:,1]\n",
    "model_y1.fit(X_tr, y1)\n",
    "print('Training is complete. Total time: {:>5.2f}s'.format(time.time()-st))\n",
    "\n",
    "meshsize_tr = model_y1.predict(X_tr)\n",
    "meshsize_val = model_y1.predict(X_val)\n",
    "meshsize_te = model_y1.predict(X_te)\n",
    "\n",
    "print('train WMAE = {}'.format(WMAE(meshsize_tr,Y_tr[:,1],1)))\n",
    "print('train NAE = {}'.format(NAE(meshsize_tr,Y_tr[:,1])))\n",
    "print('train WMAE = {}'.format(WMAE(meshsize_val,Y_val[:,1],1)))\n",
    "print('train NAE = {}'.format(NAE(meshsize_val,Y_val[:,1])))"
   ]
  },
  {
   "cell_type": "code",
   "execution_count": 78,
   "metadata": {},
   "outputs": [
    {
     "name": "stdout",
     "output_type": "stream",
     "text": [
      "Training is complete. Total time: 439.09s\n",
      "train WMAE = 1.986708302373589\n",
      "train NAE = 0.013674216015286901\n",
      "train WMAE = 2.137360507209252\n",
      "train NAE = 0.014697416048215707\n"
     ]
    }
   ],
   "source": [
    "st = time.time()\n",
    "model = MLPRegressor(hidden_layer_sizes=(30,30,30),activation='relu', random_state=26,n_iter_no_change=10,\n",
    "                                       solver='adam',learning_rate='adaptive', verbose=False,\n",
    "                                       max_iter=1000,learning_rate_init=0.001,alpha= 0.001)\n",
    "\n",
    "y = Y_tr[:,2] * 1000\n",
    "model.fit(X_tr,y)\n",
    "print('Training is complete. Total time: {:>5.2f}s'.format(time.time()-st))\n",
    "\n",
    "alpha_tr = model.predict(X_tr) / 1000\n",
    "alpha_val = model.predict(X_val) / 1000\n",
    "alpha_te = model.predict(X_te) / 1000\n",
    "\n",
    "print('train WMAE = {}'.format(WMAE(alpha_tr,Y_tr[:,2],200)))\n",
    "print('train NAE = {}'.format(NAE(alpha_tr,Y_tr[:,2])))\n",
    "print('train WMAE = {}'.format(WMAE(alpha_val,Y_val[:,2],200)))\n",
    "print('train NAE = {}'.format(NAE(alpha_val,Y_val[:,2])))"
   ]
  },
  {
   "cell_type": "code",
   "execution_count": 79,
   "metadata": {
    "scrolled": true
   },
   "outputs": [
    {
     "name": "stdout",
     "output_type": "stream",
     "text": [
      "WMAE: alpha err = 1.986708302373589, mesh_size err = 21.165385916595334, penetration rate err = 29.597632317040397\n",
      "WMAE = 52.74972653600932\n",
      "NAE: alpha err = 0.013674216015286901, mesh_size err = 0.18219471465966272, penetration rate err = 0.6243928229380086\n",
      "NAE = 0.8202617536129582\n",
      "WMAE: alpha err = 2.137360507209252, mesh_size err = 22.216128777324702, penetration rate err = 31.986754775749745\n",
      "WMAE = 56.340244060283695\n",
      "NAE: alpha err = 0.014697416048215707, mesh_size err = 0.19206090845207932, penetration rate err = 0.593233345690695\n",
      "NAE = 0.7999916701909899\n"
     ]
    }
   ],
   "source": [
    "Y_pre_tr = np.array([rate_tr,meshsize_tr,alpha_tr]).T\n",
    "Y_pre_val = np.array([rate_val,meshsize_val,alpha_val]).T\n",
    "Y_pre_te = np.array([rate_te,meshsize_te,alpha_te]).T\n",
    "\n",
    "np.savetxt('MLP.csv', Y_pre_te, delimiter=',')\n",
    "err(Y_pre_tr,Y_tr)\n",
    "err(Y_pre_val,Y_val)"
   ]
  },
  {
   "cell_type": "code",
   "execution_count": 6,
   "metadata": {},
   "outputs": [],
   "source": [
    "rate_te = np.loadtxt('gbm_y0_diff.csv')\n",
    "meshsize_te = np.loadtxt('gbm_y1_diff.csv')\n",
    "alpha_te = np.loadtxt('gbm_y2_diff.csv')\n",
    "Y_pre_te = np.array([rate_te,meshsize_te,alpha_te]).T\n",
    "np.savetxt('gbm_diff_v3.csv', Y_pre_te, delimiter=',')"
   ]
  },
  {
   "cell_type": "code",
   "execution_count": null,
   "metadata": {},
   "outputs": [],
   "source": []
  }
 ],
 "metadata": {
  "kernelspec": {
   "display_name": "Python 3",
   "language": "python",
   "name": "python3"
  },
  "language_info": {
   "codemirror_mode": {
    "name": "ipython",
    "version": 3
   },
   "file_extension": ".py",
   "mimetype": "text/x-python",
   "name": "python",
   "nbconvert_exporter": "python",
   "pygments_lexer": "ipython3",
   "version": "3.6.8"
  }
 },
 "nbformat": 4,
 "nbformat_minor": 2
}
